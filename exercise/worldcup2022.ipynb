{
 "cells": [
  {
   "cell_type": "markdown",
   "id": "e4e2ee4d-9b27-440b-828c-fc0881780ed0",
   "metadata": {},
   "source": [
    "# World cup 2022 forcast\n",
    "Inspired by https://www.kaggle.com/code/agostontorok/soccer-world-cup-2018-winner/notebook  \n",
    "\n",
    "\n",
    "Dataset:  \n",
    "https://www.kaggle.com/datasets/piterfm/fifa-football-world-cup  \n",
    "https://www.kaggle.com/datasets/cashncarry/fifaworldranking  \n",
    "https://www.kaggle.com/datasets/brenda89/fifa-world-cup-2022  \n",
    "https://www.kaggle.com/datasets/amineteffal/qatar2022worldcupschudule  \n"
   ]
  }
 ],
 "metadata": {
  "kernelspec": {
   "display_name": "Python 3 (ipykernel)",
   "language": "python",
   "name": "python3"
  },
  "language_info": {
   "codemirror_mode": {
    "name": "ipython",
    "version": 3
   },
   "file_extension": ".py",
   "mimetype": "text/x-python",
   "name": "python",
   "nbconvert_exporter": "python",
   "pygments_lexer": "ipython3",
   "version": "3.9.13"
  }
 },
 "nbformat": 4,
 "nbformat_minor": 5
}
